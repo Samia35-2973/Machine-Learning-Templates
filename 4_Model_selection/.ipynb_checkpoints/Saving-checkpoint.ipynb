{
 "cells": [
  {
   "cell_type": "markdown",
   "id": "26a91ff7",
   "metadata": {},
   "source": [
    "# Encoding Predicted Values\n",
    "if predicted values are label encoded we have to reverse it"
   ]
  },
  {
   "cell_type": "code",
   "execution_count": null,
   "id": "02347875",
   "metadata": {},
   "outputs": [],
   "source": [
    "encode.inverse_transform(predictions)"
   ]
  },
  {
   "cell_type": "markdown",
   "id": "3f415b71",
   "metadata": {},
   "source": [
    "# Add unique id and prediction to new dataframe"
   ]
  },
  {
   "cell_type": "code",
   "execution_count": null,
   "id": "f5bc81d4",
   "metadata": {},
   "outputs": [],
   "source": [
    "submission = pd.DataFrame({'PassengerId':test_df['PassengerId'],'Survived':predictions})\n",
    "submission.head()"
   ]
  },
  {
   "cell_type": "markdown",
   "id": "68388597",
   "metadata": {},
   "source": [
    "# Save\n",
    "if index are not allowed set it to false"
   ]
  },
  {
   "cell_type": "code",
   "execution_count": null,
   "id": "4dd09fdc",
   "metadata": {},
   "outputs": [],
   "source": [
    "submission.to_csv('submission.csv', index=False)"
   ]
  }
 ],
 "metadata": {
  "kernelspec": {
   "display_name": "Python 3 (ipykernel)",
   "language": "python",
   "name": "python3"
  },
  "language_info": {
   "codemirror_mode": {
    "name": "ipython",
    "version": 3
   },
   "file_extension": ".py",
   "mimetype": "text/x-python",
   "name": "python",
   "nbconvert_exporter": "python",
   "pygments_lexer": "ipython3",
   "version": "3.9.13"
  }
 },
 "nbformat": 4,
 "nbformat_minor": 5
}
