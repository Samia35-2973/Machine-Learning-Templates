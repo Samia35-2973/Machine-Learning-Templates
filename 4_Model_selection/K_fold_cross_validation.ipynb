{
 "cells": [
  {
   "cell_type": "markdown",
   "id": "af47bc09",
   "metadata": {},
   "source": [
    "Importing Necessary Files"
   ]
  },
  {
   "cell_type": "code",
   "execution_count": 1,
   "id": "987aa307",
   "metadata": {},
   "outputs": [],
   "source": [
    "import numpy as np\n",
    "import pandas as pd\n",
    "from sklearn.model_selection import train_test_split\n",
    "from sklearn.model_selection import cross_val_score\n",
    "from sklearn.metrics import accuracy_score\n",
    "\n",
    "# Import models here\n",
    "from sklearn.linear_model import LogisticRegression\n",
    "from sklearn.svm import SVC\n",
    "from sklearn.neighbors import KNeighborsClassifier\n",
    "from sklearn.ensemble import RandomForestClassifier"
   ]
  },
  {
   "cell_type": "markdown",
   "id": "7119bc86",
   "metadata": {},
   "source": [
    "## Without cross validation\n",
    "1. Train Test Solit\n",
    "```python\n",
    "X_train, X_test, Y_train, Y_test = train_test_split(X, Y, test_size=0.2, stratify = Y, random_state=3)\n",
    "print(X.shape, X_train.shape, X_test.shape)\n",
    "```\n",
    "stratify means without it the split wont be proper. Split evenly.\n",
    "2. Create List of models\n",
    "```python\n",
    "# list of models\n",
    "models = [LogisticRegression(max_iter=1000), SVC(kernel='linear'), KNeighborsClassifier(), RandomForestClassifier()]\n",
    "```\n",
    "3. Create the compare function to compare accuracy \n",
    "```python\n",
    "def compare_models_train_test():\n",
    "\n",
    "  for model in models:\n",
    "\n",
    "    # training the model\n",
    "    model.fit(X_train, Y_train)\n",
    "    \n",
    "    # evaluating the model\n",
    "    test_data_prediction = model.predict(X_test)\n",
    "\n",
    "    accuracy = accuracy_score(Y_test, test_data_prediction)\n",
    "\n",
    "    print('Accuracy score of the ', model, ' = ', accuracy)\n",
    "compare_models_train_test()\n",
    "```"
   ]
  },
  {
   "cell_type": "code",
   "execution_count": 2,
   "id": "b2f6ddfb",
   "metadata": {},
   "outputs": [
    {
     "ename": "NameError",
     "evalue": "name 'X' is not defined",
     "output_type": "error",
     "traceback": [
      "\u001b[0;31m---------------------------------------------------------------------------\u001b[0m",
      "\u001b[0;31mNameError\u001b[0m                                 Traceback (most recent call last)",
      "\u001b[0;32m/tmp/ipykernel_23811/3352394079.py\u001b[0m in \u001b[0;36m<module>\u001b[0;34m\u001b[0m\n\u001b[0;32m----> 1\u001b[0;31m \u001b[0mX_train\u001b[0m\u001b[0;34m,\u001b[0m \u001b[0mX_test\u001b[0m\u001b[0;34m,\u001b[0m \u001b[0mY_train\u001b[0m\u001b[0;34m,\u001b[0m \u001b[0mY_test\u001b[0m \u001b[0;34m=\u001b[0m \u001b[0mtrain_test_split\u001b[0m\u001b[0;34m(\u001b[0m\u001b[0mX\u001b[0m\u001b[0;34m,\u001b[0m \u001b[0mY\u001b[0m\u001b[0;34m,\u001b[0m \u001b[0mtest_size\u001b[0m\u001b[0;34m=\u001b[0m\u001b[0;36m0.2\u001b[0m\u001b[0;34m,\u001b[0m \u001b[0mstratify\u001b[0m \u001b[0;34m=\u001b[0m \u001b[0mY\u001b[0m\u001b[0;34m,\u001b[0m \u001b[0mrandom_state\u001b[0m\u001b[0;34m=\u001b[0m\u001b[0;36m3\u001b[0m\u001b[0;34m)\u001b[0m\u001b[0;34m\u001b[0m\u001b[0;34m\u001b[0m\u001b[0m\n\u001b[0m\u001b[1;32m      2\u001b[0m \u001b[0mprint\u001b[0m\u001b[0;34m(\u001b[0m\u001b[0mX\u001b[0m\u001b[0;34m.\u001b[0m\u001b[0mshape\u001b[0m\u001b[0;34m,\u001b[0m \u001b[0mX_train\u001b[0m\u001b[0;34m.\u001b[0m\u001b[0mshape\u001b[0m\u001b[0;34m,\u001b[0m \u001b[0mX_test\u001b[0m\u001b[0;34m.\u001b[0m\u001b[0mshape\u001b[0m\u001b[0;34m)\u001b[0m\u001b[0;34m\u001b[0m\u001b[0;34m\u001b[0m\u001b[0m\n\u001b[1;32m      3\u001b[0m \u001b[0;34m\u001b[0m\u001b[0m\n\u001b[1;32m      4\u001b[0m \u001b[0;31m# list of models\u001b[0m\u001b[0;34m\u001b[0m\u001b[0;34m\u001b[0m\u001b[0m\n\u001b[1;32m      5\u001b[0m \u001b[0mmodels\u001b[0m \u001b[0;34m=\u001b[0m \u001b[0;34m[\u001b[0m\u001b[0mLogisticRegression\u001b[0m\u001b[0;34m(\u001b[0m\u001b[0mmax_iter\u001b[0m\u001b[0;34m=\u001b[0m\u001b[0;36m1000\u001b[0m\u001b[0;34m)\u001b[0m\u001b[0;34m,\u001b[0m \u001b[0mSVC\u001b[0m\u001b[0;34m(\u001b[0m\u001b[0mkernel\u001b[0m\u001b[0;34m=\u001b[0m\u001b[0;34m'linear'\u001b[0m\u001b[0;34m)\u001b[0m\u001b[0;34m,\u001b[0m \u001b[0mKNeighborsClassifier\u001b[0m\u001b[0;34m(\u001b[0m\u001b[0;34m)\u001b[0m\u001b[0;34m,\u001b[0m \u001b[0mRandomForestClassifier\u001b[0m\u001b[0;34m(\u001b[0m\u001b[0;34m)\u001b[0m\u001b[0;34m]\u001b[0m\u001b[0;34m\u001b[0m\u001b[0;34m\u001b[0m\u001b[0m\n",
      "\u001b[0;31mNameError\u001b[0m: name 'X' is not defined"
     ]
    }
   ],
   "source": [
    "X_train, X_test, Y_train, Y_test = train_test_split(X, Y, test_size=0.2, stratify = Y, random_state=3)\n",
    "print(X.shape, X_train.shape, X_test.shape)\n",
    "\n",
    "# list of models\n",
    "models = [LogisticRegression(max_iter=1000), SVC(kernel='linear'), KNeighborsClassifier(), RandomForestClassifier()]\n",
    "\n",
    "def compare_models_train_test():\n",
    "\n",
    "  for model in models:\n",
    "\n",
    "    # training the model\n",
    "    model.fit(X_train, Y_train)\n",
    "    \n",
    "    # evaluating the model\n",
    "    test_data_prediction = model.predict(X_test)\n",
    "\n",
    "    accuracy = accuracy_score(Y_test, test_data_prediction)\n",
    "\n",
    "    print('Accuracy score of the ', model, ' = ', accuracy)\n",
    "\n",
    "compare_models_train_test()"
   ]
  },
  {
   "cell_type": "markdown",
   "id": "81258277",
   "metadata": {},
   "source": [
    "## Cross Validation\n",
    "### Cross Val Score\n",
    "Use cross-validation score when you want a single performance metric that represents the average performance of your model across multiple splits of the data. Useful for a quick evaluation of the model's generalization performance.\n",
    "\n",
    "1. Create List of Models\n",
    "2. Compare Models by cross validation\n",
    "    - We pass model, X, Y, and number of cross validations"
   ]
  },
  {
   "cell_type": "code",
   "execution_count": null,
   "id": "f81feba6",
   "metadata": {},
   "outputs": [],
   "source": [
    "# list of models\n",
    "models = [LogisticRegression(max_iter=1000), SVC(kernel='linear'), KNeighborsClassifier(), RandomForestClassifier()]\n",
    "\n",
    "def compare_models_cross_validation():\n",
    "\n",
    "  for model in models:\n",
    "\n",
    "    cv_score = cross_val_score(model, X,Y, cv=5)\n",
    "    \n",
    "    mean_accuracy = sum(cv_score)/len(cv_score)\n",
    "\n",
    "    mean_accuracy = mean_accuracy*100\n",
    "\n",
    "    mean_accuracy = round(mean_accuracy, 2)\n",
    "\n",
    "    print('Cross Validation accuracies for ', model, '=  ', cv_score)\n",
    "    print('Accuracy % of the ', model, mean_accuracy)\n",
    "    print('----------------------------------------------')\n",
    "\n",
    "compare_models_cross_validation()"
   ]
  },
  {
   "cell_type": "markdown",
   "id": "c630508d",
   "metadata": {},
   "source": [
    "### K Fold\n",
    "- same as cross validation score. But for training and testing we need to write the code separately"
   ]
  },
  {
   "cell_type": "code",
   "execution_count": null,
   "id": "969dabaf",
   "metadata": {},
   "outputs": [],
   "source": [
    "# list of models\n",
    "from sklearn.model_selection import KFold\n",
    "\n",
    "models = [LogisticRegression(max_iter=1000), SVC(kernel='linear'), KNeighborsClassifier(), RandomForestClassifier()]\n",
    "\n",
    "# Function to compare models using K-Fold Cross-Validation\n",
    "def compare_models_cross_validation(X, y, n_splits=5):\n",
    "    # Initialize K-Fold\n",
    "    kf = KFold(n_splits=n_splits, shuffle=True, random_state=42)\n",
    "\n",
    "    # Iterate over models\n",
    "    for model in models:\n",
    "        model_name = model.__class__.__name__\n",
    "        print(f\"\\n{model_name}:\")\n",
    "\n",
    "        # Initialize variables to store results\n",
    "        accuracies = []\n",
    "\n",
    "        # Iterate over K-Folds\n",
    "        for train_index, test_index in kf.split(X):\n",
    "            X_train, X_test = X[train_index], X[test_index]\n",
    "            y_train, y_test = y[train_index], y[test_index]\n",
    "\n",
    "            # Initialize and train the model\n",
    "            model.fit(X_train, y_train)\n",
    "\n",
    "            # Make predictions\n",
    "            y_pred = model.predict(X_test)\n",
    "\n",
    "            # Calculate accuracy and store the result\n",
    "            accuracy = accuracy_score(y_test, y_pred)\n",
    "            accuracies.append(accuracy)\n",
    "\n",
    "        # Calculate and print average accuracy across folds\n",
    "        avg_accuracy = sum(accuracies) / len(accuracies)\n",
    "        print(f\"Average Accuracy: {avg_accuracy:.4f}\")\n",
    "\n",
    "# Example usage:\n",
    "compare_models_cross_validation(X_train, y_train)"
   ]
  },
  {
   "cell_type": "markdown",
   "id": "0d8d3b33",
   "metadata": {},
   "source": [
    "### Stratified K Fold\n",
    "Better for imbalanced Dataset"
   ]
  },
  {
   "cell_type": "code",
   "execution_count": null,
   "id": "1b234fe8",
   "metadata": {},
   "outputs": [],
   "source": [
    "from sklearn.linear_model import LogisticRegression\n",
    "\n",
    "# List of models\n",
    "models = [LogisticRegression(max_iter=1000), SVC(kernel='linear'), KNeighborsClassifier(), RandomForestClassifier()]\n",
    "\n",
    "# Function to compare models using Stratified K-Fold Cross-Validation\n",
    "def compare_models_stratified_kfold(X, y, n_splits=5):\n",
    "    # Initialize Stratified K-Fold\n",
    "    skf = StratifiedKFold(n_splits=n_splits, shuffle=True, random_state=42)\n",
    "\n",
    "    # Iterate over models\n",
    "    for model in models:\n",
    "        model_name = model.__class__.__name__\n",
    "        print(f\"\\n{model_name}:\")\n",
    "\n",
    "        # Initialize variables to store results\n",
    "        accuracies = []\n",
    "\n",
    "        # Iterate over Stratified K-Folds\n",
    "        for train_index, test_index in skf.split(X, y):\n",
    "            X_train, X_test = X[train_index], X[test_index]\n",
    "            y_train, y_test = y[train_index], y[test_index]\n",
    "\n",
    "            # Initialize and train the model\n",
    "            model.fit(X_train, y_train)\n",
    "\n",
    "            # Make predictions\n",
    "            y_pred = model.predict(X_test)\n",
    "\n",
    "            # Calculate accuracy and store the result\n",
    "            accuracy = accuracy_score(y_test, y_pred)\n",
    "            accuracies.append(accuracy)\n",
    "\n",
    "        # Calculate and print average accuracy across folds\n",
    "        avg_accuracy = sum(accuracies) / len(accuracies)\n",
    "        print(f\"Average Accuracy: {avg_accuracy:.4f}\")\n",
    "\n",
    "# Example usage:\n",
    "compare_models_stratified_kfold(X_train, y_train)"
   ]
  },
  {
   "cell_type": "code",
   "execution_count": null,
   "id": "f12e5540",
   "metadata": {},
   "outputs": [],
   "source": []
  }
 ],
 "metadata": {
  "kernelspec": {
   "display_name": "Python 3 (ipykernel)",
   "language": "python",
   "name": "python3"
  },
  "language_info": {
   "codemirror_mode": {
    "name": "ipython",
    "version": 3
   },
   "file_extension": ".py",
   "mimetype": "text/x-python",
   "name": "python",
   "nbconvert_exporter": "python",
   "pygments_lexer": "ipython3",
   "version": "3.9.13"
  }
 },
 "nbformat": 4,
 "nbformat_minor": 5
}
